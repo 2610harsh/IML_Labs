{
 "cells": [
  {
   "cell_type": "markdown",
   "id": "5dfd0b17",
   "metadata": {
    "papermill": {
     "duration": 0.002472,
     "end_time": "2023-11-05T07:12:47.570097",
     "exception": false,
     "start_time": "2023-11-05T07:12:47.567625",
     "status": "completed"
    },
    "tags": []
   },
   "source": [
    "**Write a Python program using Scikit-learn to print the keys, number of rows-columns, feature names and the description of the given data.**"
   ]
  },
  {
   "cell_type": "code",
   "execution_count": 1,
   "id": "a46583b0",
   "metadata": {
    "execution": {
     "iopub.execute_input": "2023-11-05T07:12:47.576484Z",
     "iopub.status.busy": "2023-11-05T07:12:47.576067Z",
     "iopub.status.idle": "2023-11-05T07:12:48.089500Z",
     "shell.execute_reply": "2023-11-05T07:12:48.087566Z"
    },
    "papermill": {
     "duration": 0.522315,
     "end_time": "2023-11-05T07:12:48.094866",
     "exception": false,
     "start_time": "2023-11-05T07:12:47.572551",
     "status": "completed"
    },
    "tags": []
   },
   "outputs": [
    {
     "name": "stdout",
     "output_type": "stream",
     "text": [
      "\n",
      "Keys of Stock dataset:\n",
      "Index(['Date', 'Symbol', 'Series', 'Prev Close', 'Open', 'High', 'Low', 'Last',\n",
      "       'Close', 'VWAP', 'Volume', 'Turnover', 'Trades', 'Deliverable Volume',\n",
      "       '%Deliverble'],\n",
      "      dtype='object')\n",
      "\n",
      "Number of rows and columns of Stock dataset:\n",
      "(5306, 15)\n"
     ]
    }
   ],
   "source": [
    "import pandas as pd\n",
    "\n",
    "iris_data = pd.read_csv('../input/nifty50-stock-market-data/AXISBANK.csv')\n",
    "print(\"\\nKeys of Stock dataset:\")\n",
    "print(iris_data.keys())\n",
    "print(\"\\nNumber of rows and columns of Stock dataset:\")\n",
    "print(iris_data.shape)"
   ]
  }
 ],
 "metadata": {
  "kernelspec": {
   "display_name": "Python 3",
   "language": "python",
   "name": "python3"
  },
  "language_info": {
   "codemirror_mode": {
    "name": "ipython",
    "version": 3
   },
   "file_extension": ".py",
   "mimetype": "text/x-python",
   "name": "python",
   "nbconvert_exporter": "python",
   "pygments_lexer": "ipython3",
   "version": "3.10.12"
  },
  "papermill": {
   "default_parameters": {},
   "duration": 5.235277,
   "end_time": "2023-11-05T07:12:48.619899",
   "environment_variables": {},
   "exception": null,
   "input_path": "__notebook__.ipynb",
   "output_path": "__notebook__.ipynb",
   "parameters": {},
   "start_time": "2023-11-05T07:12:43.384622",
   "version": "2.4.0"
  }
 },
 "nbformat": 4,
 "nbformat_minor": 5
}
