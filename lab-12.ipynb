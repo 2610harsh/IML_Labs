{
 "cells": [
  {
   "cell_type": "markdown",
   "id": "7e6bf7ad",
   "metadata": {
    "papermill": {
     "duration": 0.002308,
     "end_time": "2023-11-05T08:44:14.068748",
     "exception": false,
     "start_time": "2023-11-05T08:44:14.066440",
     "status": "completed"
    },
    "tags": []
   },
   "source": [
    "**Write a Python program using Scikit-learn to print the keys, number of rows-columns, feature names and the description of the given data.**"
   ]
  },
  {
   "cell_type": "code",
   "execution_count": 1,
   "id": "d5f9dc37",
   "metadata": {
    "execution": {
     "iopub.execute_input": "2023-11-05T08:44:14.074570Z",
     "iopub.status.busy": "2023-11-05T08:44:14.074107Z",
     "iopub.status.idle": "2023-11-05T08:44:14.553042Z",
     "shell.execute_reply": "2023-11-05T08:44:14.550724Z"
    },
    "papermill": {
     "duration": 0.486036,
     "end_time": "2023-11-05T08:44:14.556846",
     "exception": false,
     "start_time": "2023-11-05T08:44:14.070810",
     "status": "completed"
    },
    "tags": []
   },
   "outputs": [
    {
     "name": "stdout",
     "output_type": "stream",
     "text": [
      "\n",
      "Keys of Stock dataset:\n",
      "Index(['Date', 'Open', 'High', 'Low', 'Close', 'Adj Close', 'Volume'], dtype='object')\n",
      "\n",
      "Number of rows and columns of Stock dataset:\n",
      "(127, 7)\n"
     ]
    }
   ],
   "source": [
    "import pandas as pd\n",
    "\n",
    "iris_data = pd.read_csv('../input/stock-csv/stock.csv')\n",
    "print(\"\\nKeys of Stock dataset:\")\n",
    "print(iris_data.keys())\n",
    "print(\"\\nNumber of rows and columns of Stock dataset:\")\n",
    "print(iris_data.shape)"
   ]
  }
 ],
 "metadata": {
  "kernelspec": {
   "display_name": "Python 3",
   "language": "python",
   "name": "python3"
  },
  "language_info": {
   "codemirror_mode": {
    "name": "ipython",
    "version": 3
   },
   "file_extension": ".py",
   "mimetype": "text/x-python",
   "name": "python",
   "nbconvert_exporter": "python",
   "pygments_lexer": "ipython3",
   "version": "3.10.12"
  },
  "papermill": {
   "default_parameters": {},
   "duration": 4.952441,
   "end_time": "2023-11-05T08:44:15.082063",
   "environment_variables": {},
   "exception": null,
   "input_path": "__notebook__.ipynb",
   "output_path": "__notebook__.ipynb",
   "parameters": {},
   "start_time": "2023-11-05T08:44:10.129622",
   "version": "2.4.0"
  }
 },
 "nbformat": 4,
 "nbformat_minor": 5
}
