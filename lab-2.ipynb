{
 "cells": [
  {
   "cell_type": "markdown",
   "id": "bb95051d",
   "metadata": {
    "papermill": {
     "duration": 0.006371,
     "end_time": "2023-09-06T08:08:54.919168",
     "exception": false,
     "start_time": "2023-09-06T08:08:54.912797",
     "status": "completed"
    },
    "tags": []
   },
   "source": [
    "<h1 style=\"text-align:center;\">Practical 2</h1>"
   ]
  },
  {
   "cell_type": "markdown",
   "id": "de32aa83",
   "metadata": {
    "papermill": {
     "duration": 0.005066,
     "end_time": "2023-09-06T08:08:54.929962",
     "exception": false,
     "start_time": "2023-09-06T08:08:54.924896",
     "status": "completed"
    },
    "tags": []
   },
   "source": [
    "**1) Creating one dimension array from list**"
   ]
  },
  {
   "cell_type": "code",
   "execution_count": 1,
   "id": "597a06a0",
   "metadata": {
    "execution": {
     "iopub.execute_input": "2023-09-06T08:08:54.943378Z",
     "iopub.status.busy": "2023-09-06T08:08:54.942048Z",
     "iopub.status.idle": "2023-09-06T08:08:54.958221Z",
     "shell.execute_reply": "2023-09-06T08:08:54.957018Z"
    },
    "papermill": {
     "duration": 0.025689,
     "end_time": "2023-09-06T08:08:54.960818",
     "exception": false,
     "start_time": "2023-09-06T08:08:54.935129",
     "status": "completed"
    },
    "tags": []
   },
   "outputs": [
    {
     "name": "stdout",
     "output_type": "stream",
     "text": [
      "Array:\n",
      " [1 2 3 4 5]\n"
     ]
    }
   ],
   "source": [
    "import numpy as np\n",
    "\n",
    "array = np.array([1,2,3,4,5])\n",
    "print(\"Array:\\n\",array)"
   ]
  },
  {
   "cell_type": "markdown",
   "id": "1f91b11d",
   "metadata": {
    "papermill": {
     "duration": 0.005206,
     "end_time": "2023-09-06T08:08:54.971778",
     "exception": false,
     "start_time": "2023-09-06T08:08:54.966572",
     "status": "completed"
    },
    "tags": []
   },
   "source": [
    "**2) to create a 3x3 matrix with values ranging from 2 to 10**"
   ]
  },
  {
   "cell_type": "code",
   "execution_count": 2,
   "id": "b4ace82b",
   "metadata": {
    "execution": {
     "iopub.execute_input": "2023-09-06T08:08:54.985401Z",
     "iopub.status.busy": "2023-09-06T08:08:54.984490Z",
     "iopub.status.idle": "2023-09-06T08:08:54.993211Z",
     "shell.execute_reply": "2023-09-06T08:08:54.991587Z"
    },
    "papermill": {
     "duration": 0.018719,
     "end_time": "2023-09-06T08:08:54.995934",
     "exception": false,
     "start_time": "2023-09-06T08:08:54.977215",
     "status": "completed"
    },
    "tags": []
   },
   "outputs": [
    {
     "name": "stdout",
     "output_type": "stream",
     "text": [
      "Array:\n",
      " [[ 2  3  4]\n",
      " [ 5  6  7]\n",
      " [ 8  9 10]]\n"
     ]
    }
   ],
   "source": [
    "import numpy as np\n",
    "\n",
    "array = np.array([[2,3,4],[5,6,7],[8,9,10]])\n",
    "print(\"Array:\\n\",array)"
   ]
  },
  {
   "cell_type": "markdown",
   "id": "4917036e",
   "metadata": {
    "papermill": {
     "duration": 0.006321,
     "end_time": "2023-09-06T08:08:55.008520",
     "exception": false,
     "start_time": "2023-09-06T08:08:55.002199",
     "status": "completed"
    },
    "tags": []
   },
   "source": [
    "**3) to append values at the end**"
   ]
  },
  {
   "cell_type": "code",
   "execution_count": 3,
   "id": "3b3d91fb",
   "metadata": {
    "execution": {
     "iopub.execute_input": "2023-09-06T08:08:55.022445Z",
     "iopub.status.busy": "2023-09-06T08:08:55.022046Z",
     "iopub.status.idle": "2023-09-06T08:08:55.031259Z",
     "shell.execute_reply": "2023-09-06T08:08:55.029679Z"
    },
    "papermill": {
     "duration": 0.019477,
     "end_time": "2023-09-06T08:08:55.034207",
     "exception": false,
     "start_time": "2023-09-06T08:08:55.014730",
     "status": "completed"
    },
    "tags": []
   },
   "outputs": [
    {
     "name": "stdout",
     "output_type": "stream",
     "text": [
      "Array:\n",
      " [1 2 3 4 5]\n",
      "[1 2 3 4 5 6 7 8]\n"
     ]
    }
   ],
   "source": [
    "import numpy as np\n",
    "\n",
    "array = np.array([1,2,3,4,5])\n",
    "print(\"Array:\\n\",array)\n",
    "array = np.append(array,[6,7,8])\n",
    "print(array)"
   ]
  },
  {
   "cell_type": "markdown",
   "id": "61b0745b",
   "metadata": {
    "papermill": {
     "duration": 0.005484,
     "end_time": "2023-09-06T08:08:55.045965",
     "exception": false,
     "start_time": "2023-09-06T08:08:55.040481",
     "status": "completed"
    },
    "tags": []
   },
   "source": [
    "**4) To create another shape from an array without changing its data (3x2 to 2x3)**"
   ]
  },
  {
   "cell_type": "code",
   "execution_count": 4,
   "id": "22d30c7d",
   "metadata": {
    "execution": {
     "iopub.execute_input": "2023-09-06T08:08:55.059240Z",
     "iopub.status.busy": "2023-09-06T08:08:55.058816Z",
     "iopub.status.idle": "2023-09-06T08:08:55.066314Z",
     "shell.execute_reply": "2023-09-06T08:08:55.065152Z"
    },
    "papermill": {
     "duration": 0.017173,
     "end_time": "2023-09-06T08:08:55.068898",
     "exception": false,
     "start_time": "2023-09-06T08:08:55.051725",
     "status": "completed"
    },
    "tags": []
   },
   "outputs": [
    {
     "name": "stdout",
     "output_type": "stream",
     "text": [
      "Matrix 3x2:\n",
      " [[1 2 3]\n",
      " [4 5 6]]\n",
      "Matrix 2x3:\n",
      " [[1 2]\n",
      " [3 4]\n",
      " [5 6]]\n"
     ]
    }
   ],
   "source": [
    "import numpy as np\n",
    "\n",
    "array = np.array([[1,2,3],[4,5,6]])\n",
    "print(\"Matrix 3x2:\\n\",array)\n",
    "array = np.array([[1,2],[3,4],[5,6]])\n",
    "print(\"Matrix 2x3:\\n\",array)"
   ]
  }
 ],
 "kernelspec": {
  "display_name": "Python 3",
  "language": "python",
  "name": "python3"
 },
 "language_info": {
  "codemirror_mode": {
   "name": "ipython",
   "version": 3
  },
  "file_extension": ".py",
  "mimetype": "text/x-python",
  "name": "python",
  "nbconvert_exporter": "python",
  "pygments_lexer": "ipython3",
  "version": "3.6.4"
 },
 "metadata": {
  "kernelspec": {
   "display_name": "Python 3",
   "language": "python",
   "name": "python3"
  },
  "language_info": {
   "codemirror_mode": {
    "name": "ipython",
    "version": 3
   },
   "file_extension": ".py",
   "mimetype": "text/x-python",
   "name": "python",
   "nbconvert_exporter": "python",
   "pygments_lexer": "ipython3",
   "version": "3.10.12"
  },
  "papermill": {
   "default_parameters": {},
   "duration": 4.503233,
   "end_time": "2023-09-06T08:08:55.496741",
   "environment_variables": {},
   "exception": null,
   "input_path": "__notebook__.ipynb",
   "output_path": "__notebook__.ipynb",
   "parameters": {},
   "start_time": "2023-09-06T08:08:50.993508",
   "version": "2.4.0"
  }
 },
 "nbformat": 4,
 "nbformat_minor": 5
}
