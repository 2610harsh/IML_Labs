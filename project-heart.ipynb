{
 "cells": [
  {
   "cell_type": "code",
   "execution_count": 1,
   "id": "b4fe24ab",
   "metadata": {
    "_cell_guid": "b1076dfc-b9ad-4769-8c92-a6c4dae69d19",
    "_uuid": "8f2839f25d086af736a60e9eeb907d3b93b6e0e5",
    "execution": {
     "iopub.execute_input": "2023-11-06T09:34:35.774642Z",
     "iopub.status.busy": "2023-11-06T09:34:35.774224Z",
     "iopub.status.idle": "2023-11-06T09:34:37.850715Z",
     "shell.execute_reply": "2023-11-06T09:34:37.849219Z"
    },
    "papermill": {
     "duration": 2.087502,
     "end_time": "2023-11-06T09:34:37.853601",
     "exception": false,
     "start_time": "2023-11-06T09:34:35.766099",
     "status": "completed"
    },
    "tags": []
   },
   "outputs": [],
   "source": [
    "import numpy as np\n",
    "import pandas as pd\n",
    "import matplotlib.pyplot as plt\n",
    "import seaborn as sns"
   ]
  },
  {
   "cell_type": "code",
   "execution_count": 2,
   "id": "9d010a41",
   "metadata": {
    "execution": {
     "iopub.execute_input": "2023-11-06T09:34:37.868479Z",
     "iopub.status.busy": "2023-11-06T09:34:37.867989Z",
     "iopub.status.idle": "2023-11-06T09:34:37.921828Z",
     "shell.execute_reply": "2023-11-06T09:34:37.920761Z"
    },
    "papermill": {
     "duration": 0.063379,
     "end_time": "2023-11-06T09:34:37.924603",
     "exception": false,
     "start_time": "2023-11-06T09:34:37.861224",
     "status": "completed"
    },
    "tags": []
   },
   "outputs": [
    {
     "data": {
      "text/html": [
       "<div>\n",
       "<style scoped>\n",
       "    .dataframe tbody tr th:only-of-type {\n",
       "        vertical-align: middle;\n",
       "    }\n",
       "\n",
       "    .dataframe tbody tr th {\n",
       "        vertical-align: top;\n",
       "    }\n",
       "\n",
       "    .dataframe thead th {\n",
       "        text-align: right;\n",
       "    }\n",
       "</style>\n",
       "<table border=\"1\" class=\"dataframe\">\n",
       "  <thead>\n",
       "    <tr style=\"text-align: right;\">\n",
       "      <th></th>\n",
       "      <th>age</th>\n",
       "      <th>sex</th>\n",
       "      <th>cp</th>\n",
       "      <th>trestbps</th>\n",
       "      <th>chol</th>\n",
       "      <th>fbs</th>\n",
       "      <th>restecg</th>\n",
       "      <th>thalach</th>\n",
       "      <th>exang</th>\n",
       "      <th>oldpeak</th>\n",
       "      <th>slope</th>\n",
       "      <th>ca</th>\n",
       "      <th>thal</th>\n",
       "      <th>target</th>\n",
       "    </tr>\n",
       "  </thead>\n",
       "  <tbody>\n",
       "    <tr>\n",
       "      <th>0</th>\n",
       "      <td>63</td>\n",
       "      <td>1</td>\n",
       "      <td>3</td>\n",
       "      <td>145</td>\n",
       "      <td>233</td>\n",
       "      <td>1</td>\n",
       "      <td>0</td>\n",
       "      <td>150</td>\n",
       "      <td>0</td>\n",
       "      <td>2.3</td>\n",
       "      <td>0</td>\n",
       "      <td>0</td>\n",
       "      <td>1</td>\n",
       "      <td>1</td>\n",
       "    </tr>\n",
       "    <tr>\n",
       "      <th>1</th>\n",
       "      <td>37</td>\n",
       "      <td>1</td>\n",
       "      <td>2</td>\n",
       "      <td>130</td>\n",
       "      <td>250</td>\n",
       "      <td>0</td>\n",
       "      <td>1</td>\n",
       "      <td>187</td>\n",
       "      <td>0</td>\n",
       "      <td>3.5</td>\n",
       "      <td>0</td>\n",
       "      <td>0</td>\n",
       "      <td>2</td>\n",
       "      <td>1</td>\n",
       "    </tr>\n",
       "    <tr>\n",
       "      <th>2</th>\n",
       "      <td>41</td>\n",
       "      <td>0</td>\n",
       "      <td>1</td>\n",
       "      <td>130</td>\n",
       "      <td>204</td>\n",
       "      <td>0</td>\n",
       "      <td>0</td>\n",
       "      <td>172</td>\n",
       "      <td>0</td>\n",
       "      <td>1.4</td>\n",
       "      <td>2</td>\n",
       "      <td>0</td>\n",
       "      <td>2</td>\n",
       "      <td>1</td>\n",
       "    </tr>\n",
       "    <tr>\n",
       "      <th>3</th>\n",
       "      <td>56</td>\n",
       "      <td>1</td>\n",
       "      <td>1</td>\n",
       "      <td>120</td>\n",
       "      <td>236</td>\n",
       "      <td>0</td>\n",
       "      <td>1</td>\n",
       "      <td>178</td>\n",
       "      <td>0</td>\n",
       "      <td>0.8</td>\n",
       "      <td>2</td>\n",
       "      <td>0</td>\n",
       "      <td>2</td>\n",
       "      <td>1</td>\n",
       "    </tr>\n",
       "    <tr>\n",
       "      <th>4</th>\n",
       "      <td>57</td>\n",
       "      <td>0</td>\n",
       "      <td>0</td>\n",
       "      <td>120</td>\n",
       "      <td>354</td>\n",
       "      <td>0</td>\n",
       "      <td>1</td>\n",
       "      <td>163</td>\n",
       "      <td>1</td>\n",
       "      <td>0.6</td>\n",
       "      <td>2</td>\n",
       "      <td>0</td>\n",
       "      <td>2</td>\n",
       "      <td>1</td>\n",
       "    </tr>\n",
       "  </tbody>\n",
       "</table>\n",
       "</div>"
      ],
      "text/plain": [
       "   age  sex  cp  trestbps  chol  fbs  restecg  thalach  exang  oldpeak  slope  \\\n",
       "0   63    1   3       145   233    1        0      150      0      2.3      0   \n",
       "1   37    1   2       130   250    0        1      187      0      3.5      0   \n",
       "2   41    0   1       130   204    0        0      172      0      1.4      2   \n",
       "3   56    1   1       120   236    0        1      178      0      0.8      2   \n",
       "4   57    0   0       120   354    0        1      163      1      0.6      2   \n",
       "\n",
       "   ca  thal  target  \n",
       "0   0     1       1  \n",
       "1   0     2       1  \n",
       "2   0     2       1  \n",
       "3   0     2       1  \n",
       "4   0     2       1  "
      ]
     },
     "execution_count": 2,
     "metadata": {},
     "output_type": "execute_result"
    }
   ],
   "source": [
    "# Load Heart Disease dataset\n",
    "column_names = [\"age\", \"sex\", \"cp\", \"trestbps\", \"chol\", \"fbs\", \"restecg\", \"thalach\", \"exang\", \"oldpeak\", \"slope\", \"ca\", \"thal\", \"target\"]\n",
    "df = pd.read_csv(\"../input/dataset/dataset.csv\")\n",
    "df.head()"
   ]
  },
  {
   "cell_type": "code",
   "execution_count": 3,
   "id": "c229dd31",
   "metadata": {
    "execution": {
     "iopub.execute_input": "2023-11-06T09:34:37.938484Z",
     "iopub.status.busy": "2023-11-06T09:34:37.938050Z",
     "iopub.status.idle": "2023-11-06T09:34:37.947652Z",
     "shell.execute_reply": "2023-11-06T09:34:37.946531Z"
    },
    "papermill": {
     "duration": 0.019641,
     "end_time": "2023-11-06T09:34:37.949991",
     "exception": false,
     "start_time": "2023-11-06T09:34:37.930350",
     "status": "completed"
    },
    "tags": []
   },
   "outputs": [
    {
     "name": "stdout",
     "output_type": "stream",
     "text": [
      "age         0\n",
      "sex         0\n",
      "cp          0\n",
      "trestbps    0\n",
      "chol        0\n",
      "fbs         0\n",
      "restecg     0\n",
      "thalach     0\n",
      "exang       0\n",
      "oldpeak     0\n",
      "slope       0\n",
      "ca          0\n",
      "thal        0\n",
      "target      0\n",
      "dtype: int64\n"
     ]
    }
   ],
   "source": [
    "# Check for missing values\n",
    "print(df.isnull().sum())"
   ]
  },
  {
   "cell_type": "code",
   "execution_count": 4,
   "id": "23013317",
   "metadata": {
    "execution": {
     "iopub.execute_input": "2023-11-06T09:34:37.964545Z",
     "iopub.status.busy": "2023-11-06T09:34:37.963260Z",
     "iopub.status.idle": "2023-11-06T09:34:38.290833Z",
     "shell.execute_reply": "2023-11-06T09:34:38.289331Z"
    },
    "papermill": {
     "duration": 0.337666,
     "end_time": "2023-11-06T09:34:38.293620",
     "exception": false,
     "start_time": "2023-11-06T09:34:37.955954",
     "status": "completed"
    },
    "tags": []
   },
   "outputs": [
    {
     "data": {
      "image/png": "[encoded data removed]",
      "text/plain": [
       "<Figure size 1200x600 with 1 Axes>"
      ]
     },
     "metadata": {},
     "output_type": "display_data"
    }
   ],
   "source": [
    "# Visualize data distributions and relationships\n",
    "plt.figure(figsize=(12, 6))\n",
    "sns.boxplot(x='target', y='age', data=df)\n",
    "plt.title(\"Age Distribution by Target\")\n",
    "plt.xlabel(\"Target (0: No Disease, 1: Disease)\")\n",
    "plt.ylabel(\"Age\")\n",
    "plt.show()"
   ]
  },
  {
   "cell_type": "code",
   "execution_count": 5,
   "id": "2b90f928",
   "metadata": {
    "execution": {
     "iopub.execute_input": "2023-11-06T09:34:38.309185Z",
     "iopub.status.busy": "2023-11-06T09:34:38.308766Z",
     "iopub.status.idle": "2023-11-06T09:34:38.317213Z",
     "shell.execute_reply": "2023-11-06T09:34:38.315860Z"
    },
    "papermill": {
     "duration": 0.020104,
     "end_time": "2023-11-06T09:34:38.320305",
     "exception": false,
     "start_time": "2023-11-06T09:34:38.300201",
     "status": "completed"
    },
    "tags": []
   },
   "outputs": [],
   "source": [
    "bg_color = (0.25, 0.25, 0.25)\n",
    "sns.set(rc={\"font.style\":\"normal\",\n",
    "            \"axes.facecolor\":bg_color,\n",
    "            \"figure.facecolor\":bg_color,\n",
    "            \"text.color\":\"white\",\n",
    "            \"xtick.color\":\"white\",\n",
    "            \"ytick.color\":\"white\",\n",
    "            \"axes.labelcolor\":\"white\",\n",
    "            \"axes.grid\":False,\n",
    "            'axes.labelsize':25,\n",
    "            'figure.figsize':(10.0,5.0),\n",
    "            'xtick.labelsize':15,\n",
    "            'ytick.labelsize':15})"
   ]
  },
  {
   "cell_type": "code",
   "execution_count": 6,
   "id": "f73b2b6e",
   "metadata": {
    "execution": {
     "iopub.execute_input": "2023-11-06T09:34:38.335902Z",
     "iopub.status.busy": "2023-11-06T09:34:38.335107Z",
     "iopub.status.idle": "2023-11-06T09:34:38.705698Z",
     "shell.execute_reply": "2023-11-06T09:34:38.704305Z"
    },
    "papermill": {
     "duration": 0.38123,
     "end_time": "2023-11-06T09:34:38.708156",
     "exception": false,
     "start_time": "2023-11-06T09:34:38.326926",
     "status": "completed"
    },
    "tags": []
   },
   "outputs": [
    {
     "data": {
      "text/plain": [
       "<Axes: >"
      ]
     },
     "execution_count": 6,
     "metadata": {},
     "output_type": "execute_result"
    },
    {
     "data": {
      "image/png": "[encoded data removed]",
      "text/plain": [
       "<Figure size 1000x500 with 1 Axes>"
      ]
     },
     "metadata": {},
     "output_type": "display_data"
    }
   ],
   "source": [
    "df['age'].hist(grid=False)"
   ]
  },
  {
   "cell_type": "code",
   "execution_count": 7,
   "id": "cc6dafbb",
   "metadata": {
    "execution": {
     "iopub.execute_input": "2023-11-06T09:34:38.724259Z",
     "iopub.status.busy": "2023-11-06T09:34:38.723794Z",
     "iopub.status.idle": "2023-11-06T09:34:38.730035Z",
     "shell.execute_reply": "2023-11-06T09:34:38.728983Z"
    },
    "papermill": {
     "duration": 0.017235,
     "end_time": "2023-11-06T09:34:38.732220",
     "exception": false,
     "start_time": "2023-11-06T09:34:38.714985",
     "status": "completed"
    },
    "tags": []
   },
   "outputs": [],
   "source": [
    "# Data Preprocessing:\n",
    "# Handle missing values by removing rows with missing values\n",
    "df.dropna(inplace=True)"
   ]
  },
  {
   "cell_type": "code",
   "execution_count": 8,
   "id": "6fc571bd",
   "metadata": {
    "execution": {
     "iopub.execute_input": "2023-11-06T09:34:38.747840Z",
     "iopub.status.busy": "2023-11-06T09:34:38.747386Z",
     "iopub.status.idle": "2023-11-06T09:34:38.757719Z",
     "shell.execute_reply": "2023-11-06T09:34:38.756518Z"
    },
    "papermill": {
     "duration": 0.021452,
     "end_time": "2023-11-06T09:34:38.760338",
     "exception": false,
     "start_time": "2023-11-06T09:34:38.738886",
     "status": "completed"
    },
    "tags": []
   },
   "outputs": [],
   "source": [
    "# Encode categorical variables\n",
    "# You can use one-hot encoding or label encoding depending on the dataset.\n",
    "# Split the data into features (X) and the target (y)\n",
    "X = df.drop(\"target\", axis=1)\n",
    "y = df[\"target\"]"
   ]
  },
  {
   "cell_type": "code",
   "execution_count": 9,
   "id": "3974876e",
   "metadata": {
    "execution": {
     "iopub.execute_input": "2023-11-06T09:34:38.776798Z",
     "iopub.status.busy": "2023-11-06T09:34:38.776363Z",
     "iopub.status.idle": "2023-11-06T09:34:38.787587Z",
     "shell.execute_reply": "2023-11-06T09:34:38.786238Z"
    },
    "papermill": {
     "duration": 0.022199,
     "end_time": "2023-11-06T09:34:38.790059",
     "exception": false,
     "start_time": "2023-11-06T09:34:38.767860",
     "status": "completed"
    },
    "tags": []
   },
   "outputs": [],
   "source": [
    "# Normalize features (you can use Min-Max scaling for this)\n",
    "X = (X - X.min()) / (X.max() - X.min())"
   ]
  },
  {
   "cell_type": "code",
   "execution_count": 10,
   "id": "29d8462d",
   "metadata": {
    "execution": {
     "iopub.execute_input": "2023-11-06T09:34:38.806308Z",
     "iopub.status.busy": "2023-11-06T09:34:38.805470Z",
     "iopub.status.idle": "2023-11-06T09:34:38.815651Z",
     "shell.execute_reply": "2023-11-06T09:34:38.814380Z"
    },
    "papermill": {
     "duration": 0.021249,
     "end_time": "2023-11-06T09:34:38.818380",
     "exception": false,
     "start_time": "2023-11-06T09:34:38.797131",
     "status": "completed"
    },
    "tags": []
   },
   "outputs": [],
   "source": [
    "# Split the data into a training set and a testing set\n",
    "X_train = X.sample(frac=0.8, random_state=1)\n",
    "X_test = X.drop(X_train.index)\n",
    "y_train = y.loc[X_train.index]\n",
    "y_test = y.loc[X_test.index]"
   ]
  },
  {
   "cell_type": "code",
   "execution_count": 11,
   "id": "c8450608",
   "metadata": {
    "execution": {
     "iopub.execute_input": "2023-11-06T09:34:38.834908Z",
     "iopub.status.busy": "2023-11-06T09:34:38.834519Z",
     "iopub.status.idle": "2023-11-06T09:34:38.842157Z",
     "shell.execute_reply": "2023-11-06T09:34:38.841127Z"
    },
    "papermill": {
     "duration": 0.019056,
     "end_time": "2023-11-06T09:34:38.844592",
     "exception": false,
     "start_time": "2023-11-06T09:34:38.825536",
     "status": "completed"
    },
    "tags": []
   },
   "outputs": [],
   "source": [
    "# Logistic Regression Model\n",
    "def sigmoid(z):\n",
    "    return 1 / (1 + np.exp(-z))\n",
    "\n",
    "def predict(X, weights):\n",
    "    z = np.dot(X, weights)\n",
    "    return sigmoid(z)\n",
    "\n",
    "def train_logistic_regression(X, y, learning_rate, num_iterations):\n",
    "    num_samples, num_features = X.shape\n",
    "    weights = np.zeros(num_features)\n",
    "\n",
    "    for _ in range(num_iterations):\n",
    "        model = predict(X, weights)\n",
    "        gradient = np.dot(X.T, (model - y)) / num_samples\n",
    "        weights -= learning_rate * gradient\n",
    "\n",
    "    return weights"
   ]
  },
  {
   "cell_type": "code",
   "execution_count": 12,
   "id": "531955ef",
   "metadata": {
    "execution": {
     "iopub.execute_input": "2023-11-06T09:34:38.860646Z",
     "iopub.status.busy": "2023-11-06T09:34:38.860176Z",
     "iopub.status.idle": "2023-11-06T09:34:38.899543Z",
     "shell.execute_reply": "2023-11-06T09:34:38.898158Z"
    },
    "papermill": {
     "duration": 0.051377,
     "end_time": "2023-11-06T09:34:38.902792",
     "exception": false,
     "start_time": "2023-11-06T09:34:38.851415",
     "status": "completed"
    },
    "tags": []
   },
   "outputs": [],
   "source": [
    "# Train the logistic regression model\n",
    "learning_rate = 0.1\n",
    "num_iterations = 1000\n",
    "trained_weights = train_logistic_regression(X_train.values, y_train.values, learning_rate, num_iterations)"
   ]
  },
  {
   "cell_type": "code",
   "execution_count": 13,
   "id": "cb70d978",
   "metadata": {
    "execution": {
     "iopub.execute_input": "2023-11-06T09:34:38.918557Z",
     "iopub.status.busy": "2023-11-06T09:34:38.918123Z",
     "iopub.status.idle": "2023-11-06T09:34:38.925357Z",
     "shell.execute_reply": "2023-11-06T09:34:38.924137Z"
    },
    "papermill": {
     "duration": 0.018194,
     "end_time": "2023-11-06T09:34:38.927838",
     "exception": false,
     "start_time": "2023-11-06T09:34:38.909644",
     "status": "completed"
    },
    "tags": []
   },
   "outputs": [],
   "source": [
    "# Make Predictions\n",
    "def predict_class(X, weights, threshold=0.5):\n",
    "    probabilities = predict(X, weights)\n",
    "    return [1 if p > threshold else 0 for p in probabilities]\n",
    "\n",
    "y_pred = predict_class(X_test.values, trained_weights)"
   ]
  },
  {
   "cell_type": "code",
   "execution_count": 14,
   "id": "7403c5c5",
   "metadata": {
    "execution": {
     "iopub.execute_input": "2023-11-06T09:34:38.943630Z",
     "iopub.status.busy": "2023-11-06T09:34:38.943196Z",
     "iopub.status.idle": "2023-11-06T09:34:38.950446Z",
     "shell.execute_reply": "2023-11-06T09:34:38.949014Z"
    },
    "papermill": {
     "duration": 0.018328,
     "end_time": "2023-11-06T09:34:38.952836",
     "exception": false,
     "start_time": "2023-11-06T09:34:38.934508",
     "status": "completed"
    },
    "tags": []
   },
   "outputs": [
    {
     "name": "stdout",
     "output_type": "stream",
     "text": [
      "Accuracy: 91.80%\n"
     ]
    }
   ],
   "source": [
    "# Accuracy\n",
    "accuracy = np.mean(y_pred == y_test.values)\n",
    "print(\"Accuracy: {:.2f}%\".format(accuracy * 100))"
   ]
  }
 ],
 "metadata": {
  "kernelspec": {
   "display_name": "Python 3",
   "language": "python",
   "name": "python3"
  },
  "language_info": {
   "codemirror_mode": {
    "name": "ipython",
    "version": 3
   },
   "file_extension": ".py",
   "mimetype": "text/x-python",
   "name": "python",
   "nbconvert_exporter": "python",
   "pygments_lexer": "ipython3",
   "version": "3.10.12"
  },
  "papermill": {
   "default_parameters": {},
   "duration": 10.588053,
   "end_time": "2023-11-06T09:34:42.528847",
   "environment_variables": {},
   "exception": null,
   "input_path": "__notebook__.ipynb",
   "output_path": "__notebook__.ipynb",
   "parameters": {},
   "start_time": "2023-11-06T09:34:31.940794",
   "version": "2.4.0"
  }
 },
 "nbformat": 4,
 "nbformat_minor": 5
}
