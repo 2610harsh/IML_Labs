{
 "cells": [
  {
   "cell_type": "markdown",
   "id": "0c961fc8",
   "metadata": {
    "papermill": {
     "duration": 0.003218,
     "end_time": "2023-10-22T06:03:20.611305",
     "exception": false,
     "start_time": "2023-10-22T06:03:20.608087",
     "status": "completed"
    },
    "tags": []
   },
   "source": [
    "<h1 style=\"text-align:center;\">Practical 10</h1>"
   ]
  },
  {
   "cell_type": "markdown",
   "id": "bc21af73",
   "metadata": {
    "papermill": {
     "duration": 0.002368,
     "end_time": "2023-10-22T06:03:20.616542",
     "exception": false,
     "start_time": "2023-10-22T06:03:20.614174",
     "status": "completed"
    },
    "tags": []
   },
   "source": [
    "**1) Write a Pandas program to implement following operation**"
   ]
  },
  {
   "cell_type": "markdown",
   "id": "5d56410e",
   "metadata": {
    "papermill": {
     "duration": 0.002706,
     "end_time": "2023-10-22T06:03:20.623934",
     "exception": false,
     "start_time": "2023-10-22T06:03:20.621228",
     "status": "completed"
    },
    "tags": []
   },
   "source": [
    "**to find and drop the missing values from the given dataset**\n"
   ]
  },
  {
   "cell_type": "code",
   "execution_count": 1,
   "id": "7f884768",
   "metadata": {
    "_cell_guid": "b1076dfc-b9ad-4769-8c92-a6c4dae69d19",
    "_uuid": "8f2839f25d086af736a60e9eeb907d3b93b6e0e5",
    "execution": {
     "iopub.execute_input": "2023-10-22T06:03:20.631922Z",
     "iopub.status.busy": "2023-10-22T06:03:20.631325Z",
     "iopub.status.idle": "2023-10-22T06:03:21.089060Z",
     "shell.execute_reply": "2023-10-22T06:03:21.087808Z"
    },
    "papermill": {
     "duration": 0.46537,
     "end_time": "2023-10-22T06:03:21.092077",
     "exception": false,
     "start_time": "2023-10-22T06:03:20.626707",
     "status": "completed"
    },
    "tags": []
   },
   "outputs": [
    {
     "name": "stdout",
     "output_type": "stream",
     "text": [
      "Missing values are : \n",
      "Duration    0\n",
      "Date        1\n",
      "Pulse       0\n",
      "Maxpulse    0\n",
      "Calories    2\n",
      "dtype: int64\n",
      "\n",
      "Dataset with droped NaN : \n",
      "    Duration          Date  Pulse  Maxpulse  Calories\n",
      "0         60  '2020/12/01'    110       130     409.1\n",
      "1         60  '2020/12/02'    117       145     479.0\n",
      "2         60  '2020/12/03'    103       135     340.0\n",
      "3         45  '2020/12/04'    109       175     282.4\n",
      "4         45  '2020/12/05'    117       148     406.0\n",
      "5         60  '2020/12/06'    102       127     300.0\n",
      "6         60  '2020/12/07'    110       136     374.0\n",
      "7        450  '2020/12/08'    104       134     253.3\n",
      "8         30  '2020/12/09'    109       133     195.1\n",
      "9         60  '2020/12/10'     98       124     269.0\n",
      "10        60  '2020/12/11'    103       147     329.3\n",
      "11        60  '2020/12/12'    100       120     250.7\n",
      "12        60  '2020/12/12'    100       120     250.7\n",
      "13        60  '2020/12/13'    106       128     345.3\n",
      "14        60  '2020/12/14'    104       132     379.3\n",
      "15        60  '2020/12/15'     98       123     275.0\n",
      "16        60  '2020/12/16'     98       120     215.2\n",
      "17        60  '2020/12/17'    100       120     300.0\n",
      "19        60  '2020/12/19'    103       123     323.0\n",
      "20        45  '2020/12/20'     97       125     243.0\n",
      "21        60  '2020/12/21'    108       131     364.2\n",
      "23        60  '2020/12/23'    130       101     300.0\n",
      "24        45  '2020/12/24'    105       132     246.0\n",
      "25        60  '2020/12/25'    102       126     334.5\n",
      "26        60      20201226    100       120     250.0\n",
      "27        60  '2020/12/27'     92       118     241.0\n",
      "29        60  '2020/12/29'    100       132     280.0\n",
      "30        60  '2020/12/30'    102       129     380.3\n",
      "31        60  '2020/12/31'     92       115     243.0\n"
     ]
    }
   ],
   "source": [
    "'''\n",
    "Name: Harsh K. Rajyaguru\n",
    "Enrollment: 216270307031\n",
    "'''\n",
    "import pandas as pd\n",
    "import numpy as np\n",
    "\n",
    "df = pd.read_csv('../input/wrong-data/wrong_data.csv')\n",
    "\n",
    "missing = df.isna().sum()\n",
    "print(\"Missing values are : \\n\",missing,sep=\"\")\n",
    "\n",
    "df.dropna(inplace=True)\n",
    "\n",
    "print(\"\\nDataset with droped NaN : \\n\",df,sep=\"\")"
   ]
  },
  {
   "cell_type": "markdown",
   "id": "f6864c5d",
   "metadata": {
    "papermill": {
     "duration": 0.002612,
     "end_time": "2023-10-22T06:03:21.097979",
     "exception": false,
     "start_time": "2023-10-22T06:03:21.095367",
     "status": "completed"
    },
    "tags": []
   },
   "source": [
    "**to remove the duplicates from the given dataset**"
   ]
  },
  {
   "cell_type": "code",
   "execution_count": 2,
   "id": "a5ac4ea8",
   "metadata": {
    "execution": {
     "iopub.execute_input": "2023-10-22T06:03:21.105998Z",
     "iopub.status.busy": "2023-10-22T06:03:21.105005Z",
     "iopub.status.idle": "2023-10-22T06:03:21.125328Z",
     "shell.execute_reply": "2023-10-22T06:03:21.124097Z"
    },
    "papermill": {
     "duration": 0.027843,
     "end_time": "2023-10-22T06:03:21.128578",
     "exception": false,
     "start_time": "2023-10-22T06:03:21.100735",
     "status": "completed"
    },
    "tags": []
   },
   "outputs": [
    {
     "name": "stdout",
     "output_type": "stream",
     "text": [
      "    Duration          Date  Pulse  Maxpulse  Calories\n",
      "0         60  '2020/12/01'    110       130     409.1\n",
      "1         60  '2020/12/02'    117       145     479.0\n",
      "2         60  '2020/12/03'    103       135     340.0\n",
      "3         45  '2020/12/04'    109       175     282.4\n",
      "4         45  '2020/12/05'    117       148     406.0\n",
      "5         60  '2020/12/06'    102       127     300.0\n",
      "6         60  '2020/12/07'    110       136     374.0\n",
      "7        450  '2020/12/08'    104       134     253.3\n",
      "8         30  '2020/12/09'    109       133     195.1\n",
      "9         60  '2020/12/10'     98       124     269.0\n",
      "10        60  '2020/12/11'    103       147     329.3\n",
      "11        60  '2020/12/12'    100       120     250.7\n",
      "13        60  '2020/12/13'    106       128     345.3\n",
      "14        60  '2020/12/14'    104       132     379.3\n",
      "15        60  '2020/12/15'     98       123     275.0\n",
      "16        60  '2020/12/16'     98       120     215.2\n",
      "17        60  '2020/12/17'    100       120     300.0\n",
      "19        60  '2020/12/19'    103       123     323.0\n",
      "20        45  '2020/12/20'     97       125     243.0\n",
      "21        60  '2020/12/21'    108       131     364.2\n",
      "23        60  '2020/12/23'    130       101     300.0\n",
      "24        45  '2020/12/24'    105       132     246.0\n",
      "25        60  '2020/12/25'    102       126     334.5\n",
      "26        60      20201226    100       120     250.0\n",
      "27        60  '2020/12/27'     92       118     241.0\n",
      "29        60  '2020/12/29'    100       132     280.0\n",
      "30        60  '2020/12/30'    102       129     380.3\n",
      "31        60  '2020/12/31'     92       115     243.0\n"
     ]
    }
   ],
   "source": [
    "'''\n",
    "Name: Harsh K. Rajyaguru\n",
    "Enrollment: 216270307031\n",
    "'''\n",
    "df.drop_duplicates(inplace=True)\n",
    "print(df)"
   ]
  }
 ],
 "metadata": {
  "kernelspec": {
   "display_name": "Python 3",
   "language": "python",
   "name": "python3"
  },
  "language_info": {
   "codemirror_mode": {
    "name": "ipython",
    "version": 3
   },
   "file_extension": ".py",
   "mimetype": "text/x-python",
   "name": "python",
   "nbconvert_exporter": "python",
   "pygments_lexer": "ipython3",
   "version": "3.10.12"
  },
  "papermill": {
   "default_parameters": {},
   "duration": 4.66956,
   "end_time": "2023-10-22T06:03:21.652727",
   "environment_variables": {},
   "exception": null,
   "input_path": "__notebook__.ipynb",
   "output_path": "__notebook__.ipynb",
   "parameters": {},
   "start_time": "2023-10-22T06:03:16.983167",
   "version": "2.4.0"
  }
 },
 "nbformat": 4,
 "nbformat_minor": 5
}
